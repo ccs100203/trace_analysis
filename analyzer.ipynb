{
 "cells": [
  {
   "cell_type": "code",
   "execution_count": 1,
   "id": "f4a5c225-3535-43dd-ab67-c8d42a1af253",
   "metadata": {
    "tags": []
   },
   "outputs": [],
   "source": [
    "import pickle\n",
    "import matplotlib.pyplot as plt\n",
    "import matplotlib.patches as mpatches\n",
    "import numpy as np\n",
    "import pandas as pd\n",
    "import random\n",
    "import time\n",
    "import json\n",
    "from collections import Counter\n",
    "import os\n",
    "import copy\n",
    "import seaborn as sns"
   ]
  },
  {
   "cell_type": "code",
   "execution_count": 3,
   "id": "127f7cff-008d-4f31-a45a-205df73d3bb3",
   "metadata": {
    "tags": []
   },
   "outputs": [],
   "source": [
    "# def get_all_filenames(base='./data/caida', upper_bound=0):\n",
    "#     dir_list = [base]\n",
    "#     ret_ll = []\n",
    "\n",
    "#     cnt = 0\n",
    "\n",
    "#     # go through all directory on the `base`\n",
    "#     while dir_list:\n",
    "#         cur_dir = dir_list.pop(0)\n",
    "#         cur_list = os.listdir(cur_dir)\n",
    "#         # go through all directory on a directory\n",
    "#         for cur in cur_list:            \n",
    "#             path = cur_dir + '/' + cur\n",
    "#             # is a pcap file, run pcapParser\n",
    "#             if (os.path.isfile(path)):\n",
    "#                 ret_ll.append(path)\n",
    "#                 cnt += 1\n",
    "#             # isdirectory, push to list\n",
    "#             else:\n",
    "#                 dir_list.append(path)\n",
    "#             # number of files processed is below the upper bound\n",
    "#             if upper_bound != 0 and cnt >= upper_bound:\n",
    "#                 print(f'files count: {cnt}')\n",
    "#                 return ret_ll\n",
    "#     print(f'files count: {cnt}')\n",
    "#     return ret_ll"
   ]
  },
  {
   "cell_type": "code",
   "execution_count": 4,
   "id": "92e43c13-ae7d-4fc9-a96a-8afa517baab5",
   "metadata": {
    "tags": []
   },
   "outputs": [],
   "source": [
    "# base = './data/caida'\n",
    "# filename_list = get_all_filenames(base, 1)"
   ]
  },
  {
   "cell_type": "code",
   "execution_count": 5,
   "id": "282e91ea-10a3-4c41-a5ae-12753b1a3930",
   "metadata": {
    "tags": []
   },
   "outputs": [],
   "source": [
    "# filename_list = ['./data/caida/20181018/60s/equinix-nyc.dirA.20181018-130900.UTC.anon.csv', ]"
   ]
  },
  {
   "cell_type": "code",
   "execution_count": 2,
   "id": "79ec8397-0bf0-49bc-9508-1d3d4c13c083",
   "metadata": {},
   "outputs": [
    {
     "name": "stdout",
     "output_type": "stream",
     "text": [
      "51.5672402381897\n"
     ]
    },
    {
     "data": {
      "text/html": [
       "<div>\n",
       "<style scoped>\n",
       "    .dataframe tbody tr th:only-of-type {\n",
       "        vertical-align: middle;\n",
       "    }\n",
       "\n",
       "    .dataframe tbody tr th {\n",
       "        vertical-align: top;\n",
       "    }\n",
       "\n",
       "    .dataframe thead th {\n",
       "        text-align: right;\n",
       "    }\n",
       "</style>\n",
       "<table border=\"1\" class=\"dataframe\">\n",
       "  <thead>\n",
       "    <tr style=\"text-align: right;\">\n",
       "      <th></th>\n",
       "      <th>srcip</th>\n",
       "      <th>dstip</th>\n",
       "      <th>srcport</th>\n",
       "      <th>dstport</th>\n",
       "      <th>proto</th>\n",
       "      <th>time</th>\n",
       "      <th>pkt_len</th>\n",
       "      <th>version</th>\n",
       "      <th>ihl</th>\n",
       "      <th>tos</th>\n",
       "      <th>id</th>\n",
       "      <th>flag</th>\n",
       "      <th>off</th>\n",
       "      <th>ttl</th>\n",
       "      <th>chksum</th>\n",
       "    </tr>\n",
       "  </thead>\n",
       "  <tbody>\n",
       "    <tr>\n",
       "      <th>0</th>\n",
       "      <td>2835347327</td>\n",
       "      <td>0</td>\n",
       "      <td>21974</td>\n",
       "      <td>0</td>\n",
       "      <td>NaN</td>\n",
       "      <td>1539868140000000</td>\n",
       "      <td>0</td>\n",
       "      <td>6</td>\n",
       "      <td>0</td>\n",
       "      <td>0</td>\n",
       "      <td>85</td>\n",
       "      <td>0</td>\n",
       "      <td>4410</td>\n",
       "      <td>217</td>\n",
       "      <td>57984</td>\n",
       "    </tr>\n",
       "    <tr>\n",
       "      <th>1</th>\n",
       "      <td>1685889326</td>\n",
       "      <td>3571699120</td>\n",
       "      <td>443</td>\n",
       "      <td>47268</td>\n",
       "      <td>TCP</td>\n",
       "      <td>1539868140000002</td>\n",
       "      <td>1452</td>\n",
       "      <td>4</td>\n",
       "      <td>5</td>\n",
       "      <td>0</td>\n",
       "      <td>32226</td>\n",
       "      <td>2</td>\n",
       "      <td>0</td>\n",
       "      <td>57</td>\n",
       "      <td>5675</td>\n",
       "    </tr>\n",
       "    <tr>\n",
       "      <th>2</th>\n",
       "      <td>2258941833</td>\n",
       "      <td>3978971486</td>\n",
       "      <td>2515</td>\n",
       "      <td>56488</td>\n",
       "      <td>TCP</td>\n",
       "      <td>1539868140000003</td>\n",
       "      <td>52</td>\n",
       "      <td>4</td>\n",
       "      <td>5</td>\n",
       "      <td>0</td>\n",
       "      <td>27666</td>\n",
       "      <td>2</td>\n",
       "      <td>0</td>\n",
       "      <td>54</td>\n",
       "      <td>25595</td>\n",
       "    </tr>\n",
       "    <tr>\n",
       "      <th>3</th>\n",
       "      <td>3542516037</td>\n",
       "      <td>3608343929</td>\n",
       "      <td>443</td>\n",
       "      <td>39216</td>\n",
       "      <td>TCP</td>\n",
       "      <td>1539868140000006</td>\n",
       "      <td>1400</td>\n",
       "      <td>4</td>\n",
       "      <td>5</td>\n",
       "      <td>32</td>\n",
       "      <td>32741</td>\n",
       "      <td>0</td>\n",
       "      <td>0</td>\n",
       "      <td>120</td>\n",
       "      <td>40066</td>\n",
       "    </tr>\n",
       "    <tr>\n",
       "      <th>4</th>\n",
       "      <td>2353775117</td>\n",
       "      <td>3569582299</td>\n",
       "      <td>443</td>\n",
       "      <td>20744</td>\n",
       "      <td>TCP</td>\n",
       "      <td>1539868140000008</td>\n",
       "      <td>204</td>\n",
       "      <td>4</td>\n",
       "      <td>5</td>\n",
       "      <td>0</td>\n",
       "      <td>53674</td>\n",
       "      <td>2</td>\n",
       "      <td>0</td>\n",
       "      <td>59</td>\n",
       "      <td>51593</td>\n",
       "    </tr>\n",
       "    <tr>\n",
       "      <th>...</th>\n",
       "      <td>...</td>\n",
       "      <td>...</td>\n",
       "      <td>...</td>\n",
       "      <td>...</td>\n",
       "      <td>...</td>\n",
       "      <td>...</td>\n",
       "      <td>...</td>\n",
       "      <td>...</td>\n",
       "      <td>...</td>\n",
       "      <td>...</td>\n",
       "      <td>...</td>\n",
       "      <td>...</td>\n",
       "      <td>...</td>\n",
       "      <td>...</td>\n",
       "      <td>...</td>\n",
       "    </tr>\n",
       "    <tr>\n",
       "      <th>37781421</th>\n",
       "      <td>1311461803</td>\n",
       "      <td>3571699030</td>\n",
       "      <td>56962</td>\n",
       "      <td>49221</td>\n",
       "      <td>UDP</td>\n",
       "      <td>1539868199999994</td>\n",
       "      <td>48</td>\n",
       "      <td>4</td>\n",
       "      <td>5</td>\n",
       "      <td>0</td>\n",
       "      <td>5923</td>\n",
       "      <td>0</td>\n",
       "      <td>0</td>\n",
       "      <td>109</td>\n",
       "      <td>62601</td>\n",
       "    </tr>\n",
       "    <tr>\n",
       "      <th>37781422</th>\n",
       "      <td>3306889401</td>\n",
       "      <td>3447550259</td>\n",
       "      <td>80</td>\n",
       "      <td>26276</td>\n",
       "      <td>TCP</td>\n",
       "      <td>1539868199999994</td>\n",
       "      <td>1500</td>\n",
       "      <td>4</td>\n",
       "      <td>5</td>\n",
       "      <td>0</td>\n",
       "      <td>50136</td>\n",
       "      <td>2</td>\n",
       "      <td>0</td>\n",
       "      <td>61</td>\n",
       "      <td>20414</td>\n",
       "    </tr>\n",
       "    <tr>\n",
       "      <th>37781423</th>\n",
       "      <td>385030285</td>\n",
       "      <td>3450273070</td>\n",
       "      <td>443</td>\n",
       "      <td>55231</td>\n",
       "      <td>TCP</td>\n",
       "      <td>1539868199999996</td>\n",
       "      <td>52</td>\n",
       "      <td>4</td>\n",
       "      <td>5</td>\n",
       "      <td>8</td>\n",
       "      <td>61462</td>\n",
       "      <td>2</td>\n",
       "      <td>0</td>\n",
       "      <td>47</td>\n",
       "      <td>24912</td>\n",
       "    </tr>\n",
       "    <tr>\n",
       "      <th>37781424</th>\n",
       "      <td>1055819853</td>\n",
       "      <td>3231989353</td>\n",
       "      <td>5223</td>\n",
       "      <td>38011</td>\n",
       "      <td>TCP</td>\n",
       "      <td>1539868199999998</td>\n",
       "      <td>163</td>\n",
       "      <td>4</td>\n",
       "      <td>5</td>\n",
       "      <td>8</td>\n",
       "      <td>22792</td>\n",
       "      <td>2</td>\n",
       "      <td>0</td>\n",
       "      <td>46</td>\n",
       "      <td>11516</td>\n",
       "    </tr>\n",
       "    <tr>\n",
       "      <th>37781425</th>\n",
       "      <td>2256962229</td>\n",
       "      <td>3978971487</td>\n",
       "      <td>443</td>\n",
       "      <td>30952</td>\n",
       "      <td>TCP</td>\n",
       "      <td>1539868199999999</td>\n",
       "      <td>52</td>\n",
       "      <td>4</td>\n",
       "      <td>5</td>\n",
       "      <td>0</td>\n",
       "      <td>21594</td>\n",
       "      <td>2</td>\n",
       "      <td>0</td>\n",
       "      <td>54</td>\n",
       "      <td>45220</td>\n",
       "    </tr>\n",
       "  </tbody>\n",
       "</table>\n",
       "<p>37781426 rows × 15 columns</p>\n",
       "</div>"
      ],
      "text/plain": [
       "               srcip       dstip  srcport  dstport proto              time  \\\n",
       "0         2835347327           0    21974        0   NaN  1539868140000000   \n",
       "1         1685889326  3571699120      443    47268   TCP  1539868140000002   \n",
       "2         2258941833  3978971486     2515    56488   TCP  1539868140000003   \n",
       "3         3542516037  3608343929      443    39216   TCP  1539868140000006   \n",
       "4         2353775117  3569582299      443    20744   TCP  1539868140000008   \n",
       "...              ...         ...      ...      ...   ...               ...   \n",
       "37781421  1311461803  3571699030    56962    49221   UDP  1539868199999994   \n",
       "37781422  3306889401  3447550259       80    26276   TCP  1539868199999994   \n",
       "37781423   385030285  3450273070      443    55231   TCP  1539868199999996   \n",
       "37781424  1055819853  3231989353     5223    38011   TCP  1539868199999998   \n",
       "37781425  2256962229  3978971487      443    30952   TCP  1539868199999999   \n",
       "\n",
       "          pkt_len  version  ihl  tos     id  flag   off  ttl  chksum  \n",
       "0               0        6    0    0     85     0  4410  217   57984  \n",
       "1            1452        4    5    0  32226     2     0   57    5675  \n",
       "2              52        4    5    0  27666     2     0   54   25595  \n",
       "3            1400        4    5   32  32741     0     0  120   40066  \n",
       "4             204        4    5    0  53674     2     0   59   51593  \n",
       "...           ...      ...  ...  ...    ...   ...   ...  ...     ...  \n",
       "37781421       48        4    5    0   5923     0     0  109   62601  \n",
       "37781422     1500        4    5    0  50136     2     0   61   20414  \n",
       "37781423       52        4    5    8  61462     2     0   47   24912  \n",
       "37781424      163        4    5    8  22792     2     0   46   11516  \n",
       "37781425       52        4    5    0  21594     2     0   54   45220  \n",
       "\n",
       "[37781426 rows x 15 columns]"
      ]
     },
     "execution_count": 2,
     "metadata": {},
     "output_type": "execute_result"
    }
   ],
   "source": [
    "### read file\n",
    "\n",
    "filename = './data/caida/20181018/60s/equinix-nyc.dirA.20181018-130900.UTC.anon.csv'\n",
    "# flowkeys = ['srcip', 'dstip', 'srcport', 'dstport', 'proto']\n",
    "# flowkeys = ['srcip', 'srcport']\n",
    "flowkeys = ['srcip']\n",
    "# flowkeys = ['dstip', 'dstport']\n",
    "start = time.time()\n",
    "df = pd.read_csv(filename)\n",
    "end = time.time()\n",
    "print(end - start)\n",
    "# df.groupby(flowkeys).size()\n",
    "df"
   ]
  },
  {
   "cell_type": "code",
   "execution_count": 27,
   "id": "aea4c745-b521-41ae-ba0f-23037c5ba7ce",
   "metadata": {
    "tags": []
   },
   "outputs": [],
   "source": [
    "# define ip address <--> int converting function\n",
    "import socket\n",
    "import struct\n",
    "def ip2long(ip):\n",
    "    \"\"\"\n",
    "    Convert an IP string to long\n",
    "    \"\"\"\n",
    "    packedIP = socket.inet_aton(ip)\n",
    "    return struct.unpack(\"!L\", packedIP)[0]\n",
    "\n",
    "def long2ip(val):\n",
    "    return socket.inet_ntoa(struct.pack('!L', val))"
   ]
  },
  {
   "cell_type": "code",
   "execution_count": 70,
   "id": "e0f0e309-f58e-470d-af44-ab56900164b1",
   "metadata": {
    "tags": []
   },
   "outputs": [
    {
     "data": {
      "text/plain": [
       "1166273"
      ]
     },
     "execution_count": 70,
     "metadata": {},
     "output_type": "execute_result"
    }
   ],
   "source": [
    "total_num_of_pkt = len(df)\n",
    "total_num_of_flow = len(df.groupby(flowkeys).size())\n",
    "# total_num_of_pkt / total_num_of_flow\n",
    "np.argmax(df.groupby(flowkeys).size().values)\n",
    "df.groupby(flowkeys).size().index[298030]\n",
    "np.max(df.groupby(flowkeys).size().values)"
   ]
  },
  {
   "cell_type": "code",
   "execution_count": 87,
   "id": "bccb3a33-bbb9-40fe-80e7-2a6132916065",
   "metadata": {
    "tags": []
   },
   "outputs": [
    {
     "name": "stdout",
     "output_type": "stream",
     "text": [
      "original total_num_of_flow 421828\n",
      "max: 116,611\n",
      "my total_num_of_pkt: 1,612,175,287\n",
      "original total_num_of_pkt: 37,781,426\n",
      "ratio: 42.671107411350754\n",
      "max: 2,733\n",
      "my total_num_of_pkt: 37,976,784\n"
     ]
    }
   ],
   "source": [
    "print('original total_num_of_flow',total_num_of_flow)\n",
    "s = np.random.zipf(a=1.1, size=total_num_of_flow)\n",
    "s2 = []\n",
    "for d in s:\n",
    "    if d < 1166273/10:\n",
    "        s2.append(d)\n",
    "print(f'max: {max(s2):,}')\n",
    "print(f'my total_num_of_pkt: {sum(s2):,}')\n",
    "print(f'original total_num_of_pkt: {total_num_of_pkt:,}')\n",
    "\n",
    "ratio = sum(s2) / total_num_of_pkt\n",
    "print(f'ratio: {ratio}')\n",
    "s2 /= ratio\n",
    "s2 = s2.astype(int)\n",
    "s2 += 1\n",
    "print(f'max: {max(s2):,}')\n",
    "print(f'my total_num_of_pkt: {sum(s2):,}')"
   ]
  },
  {
   "cell_type": "code",
   "execution_count": 7,
   "id": "2c0cb687-3e85-4333-877d-d5df88e7c918",
   "metadata": {
    "tags": []
   },
   "outputs": [
    {
     "name": "stdout",
     "output_type": "stream",
     "text": [
      "srcip\n",
      "2433           1\n",
      "391268         1\n",
      "391274         2\n",
      "391286        30\n",
      "444372         2\n",
      "              ..\n",
      "4294952950     1\n",
      "4294953882     1\n",
      "4294953981     1\n",
      "4294954493     1\n",
      "4294964991     1\n",
      "Length: 421828, dtype: int64\n",
      "\n",
      "flowkeys_count: 421828\n"
     ]
    }
   ],
   "source": [
    "# flowkey & packet size mapping\n",
    "flowkey_to_pktsize = df.groupby(flowkeys).size()\n",
    "print(flowkey_to_pktsize)\n",
    "# how many flowkeys\n",
    "flowkeys_count = len(df.groupby(flowkeys).size())\n",
    "print('\\nflowkeys_count:', flowkeys_count)"
   ]
  },
  {
   "cell_type": "code",
   "execution_count": 12,
   "id": "7917f022-4100-4a5b-b907-b6e47256fee2",
   "metadata": {
    "tags": []
   },
   "outputs": [
    {
     "data": {
      "text/plain": [
       "1166273"
      ]
     },
     "execution_count": 12,
     "metadata": {},
     "output_type": "execute_result"
    }
   ],
   "source": [
    "np.max(df.groupby(flowkeys).size().values)"
   ]
  },
  {
   "cell_type": "markdown",
   "id": "a133714c-b177-4a17-9e55-037b3aad7794",
   "metadata": {},
   "source": [
    "## Sampling followed distributions"
   ]
  },
  {
   "cell_type": "code",
   "execution_count": 365,
   "id": "9b1c4352-ebaa-4d2e-aa0d-f2c3d37a6d50",
   "metadata": {
    "tags": []
   },
   "outputs": [],
   "source": [
    "# howm many sample times for distribution\n",
    "# it controls the how many flowkeys in dataset (upper bound)\n",
    "sample_times = 170000\n",
    "target_packet_cnt = int(15e6)\n",
    "\n",
    "## https://numpy.org/doc/1.16/reference/routines.random.html"
   ]
  },
  {
   "cell_type": "code",
   "execution_count": 700,
   "id": "4a915f1a-4a42-4553-9ded-7bd30dc23276",
   "metadata": {},
   "outputs": [
    {
     "name": "stdout",
     "output_type": "stream",
     "text": [
      "idx: 74888 packet_cnt: 15,082,401\n",
      "[36311 11360  5612  3419  2350  1723  1362  1051   877   700] 2,660,236\n",
      "2,660,236\n"
     ]
    }
   ],
   "source": [
    "def get_zipf_count(sample_times, zipf_alpha=1.7, target_packet_cnt = int(15e6)):\n",
    "\n",
    "    s = np.random.zipf(a=zipf_alpha, size=sample_times)\n",
    "    # print('sum:', f'{s.sum():,}')\n",
    "    cnt = 0\n",
    "    tmp = []\n",
    "    for idx, d in enumerate(s):\n",
    "        # avoid 1 flowkey has too many packets (too large)\n",
    "        if d < target_packet_cnt/5:\n",
    "            cnt += d\n",
    "            tmp.append(d)\n",
    "            if cnt > target_packet_cnt:\n",
    "                print('flowkeys_cnt:', idx, f'total_packet_cnt: {cnt:,}')\n",
    "                break\n",
    "    s = tmp\n",
    "    \n",
    "\n",
    "    bin_count = np.bincount(s)[1:]\n",
    "    print('zipf:', bin_count[:10], f'{len(bin_count):,}')\n",
    "    \n",
    "    x = np.arange(1, len(bin_count) + 1)\n",
    "    \n",
    "    return x, bin_count\n",
    "    \n",
    "zipf_x, zipf_count = get_zipf_count(sample_times)\n",
    "print(f'{len(zipf_x):,}')\n",
    "# plt.bar(zipf_x, zipf_count, alpha=0.5, label='sample count')"
   ]
  },
  {
   "cell_type": "code",
   "execution_count": 702,
   "id": "dfbb5f60-b04a-433c-8b76-5e43b9296bba",
   "metadata": {
    "tags": []
   },
   "outputs": [
    {
     "name": "stdout",
     "output_type": "stream",
     "text": [
      "idx: 303 packet_cnt: 15,002,700\n",
      "[0 0 0 0 0 0 0 0 0 0] 99801\n",
      "99801\n"
     ]
    }
   ],
   "source": [
    "def get_uniform_count(sample_times, high_bound = 1e3, interval = 100, target_packet_cnt = int(15e6)):\n",
    "    s = np.random.uniform(1, high_bound, sample_times)\n",
    "    s = s.astype(int)\n",
    "    # print('sum:', f'{s.sum():,}')\n",
    "    cnt = 0\n",
    "    tmp = []\n",
    "\n",
    "    for idx, d in enumerate(s):\n",
    "        # sampling interval, e.g. 100, 200, 300....\n",
    "        d *= interval\n",
    "        # avoid 1 flowkey has too many packets (too large)\n",
    "        if d < target_packet_cnt / 5:\n",
    "            cnt += d\n",
    "            tmp.append(d)\n",
    "            if cnt > target_packet_cnt:\n",
    "                print('flowkeys_cnt:', idx, f'total_packet_cnt: {cnt:,}')\n",
    "                break\n",
    "    s = tmp\n",
    "    \n",
    "\n",
    "    bin_count = np.bincount(s)\n",
    "    print('uniform:', bin_count[:10], f'{len(bin_count):,}')\n",
    "    # a = plt.hist(s, density=True)\n",
    "    \n",
    "    x = np.arange(1, len(bin_count) + 1)\n",
    "    return x, bin_count\n",
    "uniform_x, uniform_count = get_uniform_count(sample_times)\n",
    "print(len(uniform_x))"
   ]
  },
  {
   "cell_type": "code",
   "execution_count": 575,
   "id": "02db9f50-8683-434b-b521-6a929b4530a9",
   "metadata": {
    "tags": []
   },
   "outputs": [],
   "source": [
    "# def get_lognormal_count(sample_times, mu=8, sigma=1):\n",
    "#     mu, sigma = 8, 1 # mean and standard deviation\n",
    "#     s = np.random.lognormal(mu, sigma, sample_times)\n",
    "#     print(s)\n",
    "#     s = s.astype(int)\n",
    "#     bin_count = np.bincount(s)\n",
    "#     print(bin_count)\n",
    "#     count, bins, ignored = plt.hist(s, 100, density=True, align='mid')\n",
    "# get_lognormal_count(10000)"
   ]
  },
  {
   "cell_type": "code",
   "execution_count": 484,
   "id": "c37b27e6-b595-4c47-93fb-154a34a2c503",
   "metadata": {
    "tags": []
   },
   "outputs": [],
   "source": [
    "# mu, sigma = 0, 100000 # mean and standard deviation\n",
    "# s = np.random.normal(mu, sigma, sample_times)\n",
    "# count, bins, ignored = plt.hist(s + 6e5, 100, density=True)\n",
    "# # s.astype(int) + 1000"
   ]
  },
  {
   "cell_type": "markdown",
   "id": "f336a0a7-d2c0-42e1-880f-5bcdb4f983ce",
   "metadata": {},
   "source": [
    "## Get real count"
   ]
  },
  {
   "cell_type": "code",
   "execution_count": 8,
   "id": "d30bd973-97c9-40b5-845a-8e7aba5c3ca4",
   "metadata": {
    "tags": []
   },
   "outputs": [
    {
     "name": "stdout",
     "output_type": "stream",
     "text": [
      "[197352, 203200, 325820, 331460, 334424, 348367, 428137, 470708, 536081, 1166273] [1 1 1 1 1 1 1 1 1 1]\n"
     ]
    }
   ],
   "source": [
    "vals = df.groupby(flowkeys).size().values\n",
    "def get_real_count(vals):\n",
    "    dist_dict = dict(Counter(vals))\n",
    "    dist_dict = {k: v for k, v in sorted(dist_dict.items(), key = lambda x: x[0])}\n",
    "    x = dist_dict.keys()\n",
    "    x = list(x)\n",
    "\n",
    "    count = np.asarray(list(dist_dict.values()), dtype=int) # / float(sum(dist_dict.values()))\n",
    "    print(x[-10:], count[-10:])\n",
    "    \n",
    "    return x, count\n",
    "\n",
    "real_x, real_count = get_real_count(vals)"
   ]
  },
  {
   "cell_type": "code",
   "execution_count": 10,
   "id": "653639b8-3505-4ee4-820b-9c08e002eee4",
   "metadata": {},
   "outputs": [
    {
     "name": "stdout",
     "output_type": "stream",
     "text": [
      "473324 4142\n"
     ]
    }
   ],
   "source": [
    "def get_probability_and_difference(exp_count):\n",
    "    pktsize_to_probability = {}\n",
    "    # calculate the difference between real & expect\n",
    "    diff_count = copy.deepcopy(exp_count)\n",
    "    for idx, cnt in zip(real_x, real_count):\n",
    "        try:\n",
    "            exp_cnt = exp_count[idx - 1]\n",
    "            diff_count[idx - 1] -= cnt\n",
    "        except:\n",
    "            exp_cnt = 0\n",
    "\n",
    "        # flowkey's keeping probability\n",
    "        prob = float(exp_cnt) / cnt\n",
    "        # if prob > 1:\n",
    "        #     print(exp_cnt / cnt)\n",
    "        pktsize_to_probability[idx] = prob\n",
    "        # print(idx, cnt, prob)\n",
    "    print(len(exp_count), len(pktsize_to_probability))\n",
    "    return diff_count, pktsize_to_probability\n",
    "diff_count, pktsize_to_probability = get_probability_and_difference(zipf_count)"
   ]
  },
  {
   "cell_type": "code",
   "execution_count": 60,
   "id": "174f3b9b-b5ad-41db-9b24-0b41e7d42a46",
   "metadata": {
    "tags": []
   },
   "outputs": [
    {
     "name": "stdout",
     "output_type": "stream",
     "text": [
      "1681463732.3426695\n",
      "1681463732.6170301\n",
      "1681463732.8923442\n",
      "1681463733.169919\n",
      "2.2816250324249268\n",
      "total cnt: 421828 drop cnt: 221947\n"
     ]
    }
   ],
   "source": [
    "### Drop flowkeys which more than distribution\n",
    "\n",
    "def split_flowkeys(df, flowkey_to_pktsize):\n",
    "    cnt = 0\n",
    "    drop_cnt = 0\n",
    "    df2 = df.copy(deep=True)\n",
    "\n",
    "    remaining_keys = []\n",
    "    removed_keys = []\n",
    "    start = time.time()\n",
    "    for key in list(df.groupby(flowkeys).size().index):\n",
    "        pktsize = flowkey_to_pktsize[key]\n",
    "        prob = pktsize_to_probability[pktsize]\n",
    "        # drop this flowkey\n",
    "        if random.random() > prob:\n",
    "            drop_cnt += 1\n",
    "            removed_keys.append(key)\n",
    "        # keep this key\n",
    "        else:\n",
    "            remaining_keys.append(key)\n",
    "        cnt += 1\n",
    "        if cnt % 100000 == 0:\n",
    "            print(time.time())\n",
    "\n",
    "    end = time.time()\n",
    "    print(end - start)\n",
    "    print('total cnt:', cnt, 'drop cnt:', drop_cnt)\n",
    "    \n",
    "    df2 = df2.loc[df2['srcip'].isin(remaining_keys)]\n",
    "    \n",
    "    return remaining_keys, removed_keys, df2\n",
    "remaining_keys, removed_keys, df_remaining_keys = split_flowkeys(df, flowkey_to_pktsize)"
   ]
  },
  {
   "cell_type": "code",
   "execution_count": 64,
   "id": "b9a3f620-3436-410e-84ee-4bb62f9fb7d3",
   "metadata": {
    "tags": []
   },
   "outputs": [
    {
     "name": "stdout",
     "output_type": "stream",
     "text": [
      "199881 221947\n",
      "df_remaining_keys.shape: (1504423, 15)\n",
      "df.shape: (37781426, 15)\n"
     ]
    }
   ],
   "source": [
    "print(len(remaining_keys), len(removed_keys))\n",
    "print('df_remaining_keys.shape:', df_remaining_keys.shape)\n",
    "print('df.shape:', df.shape)"
   ]
  },
  {
   "cell_type": "code",
   "execution_count": 63,
   "id": "9577658f-04a9-49b0-a2bb-02db8f3ebbf8",
   "metadata": {
    "tags": []
   },
   "outputs": [],
   "source": [
    "# define ip address <--> int converting function\n",
    "import socket\n",
    "def ip2long(ip):\n",
    "    \"\"\"\n",
    "    Convert an IP string to long\n",
    "    \"\"\"\n",
    "    packedIP = socket.inet_aton(ip)\n",
    "    return struct.unpack(\"!L\", packedIP)[0]\n",
    "\n",
    "def long2ip(val):\n",
    "    return socket.inet_ntoa(struct.pack('!L', val))"
   ]
  },
  {
   "cell_type": "code",
   "execution_count": 67,
   "id": "662cce61-79e4-4276-8f11-5da467039652",
   "metadata": {
    "tags": []
   },
   "outputs": [
    {
     "name": "stdout",
     "output_type": "stream",
     "text": [
      "2049459\n",
      "123\n"
     ]
    }
   ],
   "source": [
    "# create dummy packet from removed key\n",
    "\n",
    "def create_dummy_packet(diff_count, removed_keys, df):\n",
    "    dummy_pkt_cnt = 0\n",
    "    idx_removed_key = 0\n",
    "    pkts_list = []\n",
    "\n",
    "    # `i` is index in `diff_count`, `i + 1` is also the packet size\n",
    "    for i, diff in enumerate(diff_count):\n",
    "        # it needs to create dummy packet\n",
    "        if diff > 0:\n",
    "            # print(i, d)\n",
    "            pktsize = i + 1\n",
    "            dummy_pkt_cnt += pktsize * diff\n",
    "            # print(pktsize)\n",
    "            # how many flowkey should be created on this packet size\n",
    "            for num in range(diff):\n",
    "                pkt_info = df[df['srcip'] == removed_keys[idx_removed_key]].iloc[0]\n",
    "                tmp_ll = []\n",
    "                # TCP\n",
    "                if pkt_info['proto'] == 'TCP':\n",
    "                    pkt = Ether(dst='00:11:22:33:44:55')/IP(src=long2ip(pkt_info['srcip']), dst=long2ip(pkt_info['dstip']))/TCP(sport=pkt_info['srcport'], dport=pkt_info['dstport'])\n",
    "                # UDP\n",
    "                else:\n",
    "                    pkt = Ether(dst='00:11:22:33:44:55')/IP(src=long2ip(pkt_info['srcip']), dst=long2ip(pkt_info['dstip']))/UDP(sport=pkt_info['srcport'], dport=pkt_info['dstport'])\n",
    "\n",
    "                # setup timestamp\n",
    "                pkt.time = pkt_info.time / 1e6\n",
    "                # duplicate packets, according to pktsize\n",
    "                tmp_ll = [pkt] * pktsize\n",
    "                pkts_list += tmp_ll\n",
    "                idx_removed_key += 1\n",
    "\n",
    "    print(dummy_pkt_cnt)\n",
    "    print(idx_removed_key)\n",
    "    return pkts_list\n",
    "pkts_list = create_dummy_packet(diff_count, removed_keys, df)\n",
    "print('len(pkts_list):', len(pkts_list))"
   ]
  },
  {
   "cell_type": "code",
   "execution_count": 70,
   "id": "8c502f21-8bf2-43fd-a9db-4f6b53b5d4e0",
   "metadata": {
    "tags": []
   },
   "outputs": [],
   "source": [
    "global_cnt = 0\n",
    "global_pkt_of_remaining_key = []\n",
    "\n",
    "# create packet for remaining flowkeys\n",
    "def create_packet(pkt_info):\n",
    "    global global_cnt\n",
    "    global global_pkt_of_remaining_key\n",
    "    \n",
    "    global_cnt += 1\n",
    "    if global_cnt % 100000 == 0:\n",
    "        print(global_cnt)\n",
    "\n",
    "    if pkt_info['proto'] == 'TCP':\n",
    "        pkt = Ether(dst='00:11:22:33:44:55')/IP(src=long2ip(pkt_info['srcip']), dst=long2ip(pkt_info['dstip']))/TCP(sport=pkt_info['srcport'], dport=pkt_info['dstport'])\n",
    "    # UDP\n",
    "    else:\n",
    "        pkt = Ether(dst='00:11:22:33:44:55')/IP(src=long2ip(pkt_info['srcip']), dst=long2ip(pkt_info['dstip']))/UDP(sport=pkt_info['srcport'], dport=pkt_info['dstport'])\n",
    "\n",
    "    # setup timestamp\n",
    "    pkt.time = pkt_info.time / 1e6\n",
    "    global_pkt_of_remaining_key.append(pkt)"
   ]
  },
  {
   "cell_type": "code",
   "execution_count": 72,
   "id": "36b47a5c-ce64-4a62-bce8-0ae0dc177826",
   "metadata": {
    "tags": []
   },
   "outputs": [
    {
     "name": "stdout",
     "output_type": "stream",
     "text": [
      "0\n"
     ]
    }
   ],
   "source": [
    "start = time.time()\n",
    "\n",
    "# create packets for remaining keys\n",
    "df_remaining_keys.apply(create_packet, axis=1)\n",
    "\n",
    "end = time.time()\n",
    "print(end - start, 'sec')\n",
    "\n",
    "assert(len(global_pkt_of_remaining_key) == global_cnt)\n",
    "print(len(global_pkt_of_remaining_key))"
   ]
  },
  {
   "cell_type": "code",
   "execution_count": 436,
   "id": "0c506d5f-7596-4071-863c-2fb2b9044e18",
   "metadata": {
    "tags": []
   },
   "outputs": [
    {
     "name": "stdout",
     "output_type": "stream",
     "text": [
      "4784199\n",
      "1433.309710741043\n"
     ]
    }
   ],
   "source": [
    "# concatenate packets of remaining keys & dummy keys, svae into pcap files\n",
    "start = time.time()\n",
    "\n",
    "ll = global_pkt_of_remaining_key + pkts_list\n",
    "print(len(ll))\n",
    "name = '20181018-130900_srcip_zipf'\n",
    "wrpcap(name + '.pcap', ll)\n",
    "\n",
    "end = time.time()\n",
    "print(end - start, 'sec')"
   ]
  },
  {
   "cell_type": "code",
   "execution_count": 68,
   "id": "c9e74e50-548d-4fb8-b515-fa8dec873deb",
   "metadata": {
    "tags": []
   },
   "outputs": [],
   "source": [
    "# global_cnt\n",
    "# df2"
   ]
  },
  {
   "cell_type": "code",
   "execution_count": 19,
   "id": "e96863a0-9d3b-4067-9695-558be8fc1474",
   "metadata": {
    "tags": []
   },
   "outputs": [
    {
     "data": {
      "text/html": [
       "<div>\n",
       "<style scoped>\n",
       "    .dataframe tbody tr th:only-of-type {\n",
       "        vertical-align: middle;\n",
       "    }\n",
       "\n",
       "    .dataframe tbody tr th {\n",
       "        vertical-align: top;\n",
       "    }\n",
       "\n",
       "    .dataframe thead th {\n",
       "        text-align: right;\n",
       "    }\n",
       "</style>\n",
       "<table border=\"1\" class=\"dataframe\">\n",
       "  <thead>\n",
       "    <tr style=\"text-align: right;\">\n",
       "      <th></th>\n",
       "      <th>srcip</th>\n",
       "      <th>dstip</th>\n",
       "      <th>srcport</th>\n",
       "      <th>dstport</th>\n",
       "      <th>proto</th>\n",
       "      <th>time</th>\n",
       "      <th>pkt_len</th>\n",
       "      <th>version</th>\n",
       "      <th>ihl</th>\n",
       "      <th>tos</th>\n",
       "      <th>id</th>\n",
       "      <th>flag</th>\n",
       "      <th>off</th>\n",
       "      <th>ttl</th>\n",
       "      <th>chksum</th>\n",
       "    </tr>\n",
       "  </thead>\n",
       "  <tbody>\n",
       "    <tr>\n",
       "      <th>10</th>\n",
       "      <td>1838263254</td>\n",
       "      <td>3347579298</td>\n",
       "      <td>443</td>\n",
       "      <td>47268</td>\n",
       "      <td>TCP</td>\n",
       "      <td>1539868140000018</td>\n",
       "      <td>56</td>\n",
       "      <td>4</td>\n",
       "      <td>5</td>\n",
       "      <td>8</td>\n",
       "      <td>12369</td>\n",
       "      <td>0</td>\n",
       "      <td>0</td>\n",
       "      <td>54</td>\n",
       "      <td>29146</td>\n",
       "    </tr>\n",
       "  </tbody>\n",
       "</table>\n",
       "</div>"
      ],
      "text/plain": [
       "         srcip       dstip  srcport  dstport proto              time  pkt_len  \\\n",
       "10  1838263254  3347579298      443    47268   TCP  1539868140000018       56   \n",
       "\n",
       "    version  ihl  tos     id  flag  off  ttl  chksum  \n",
       "10        4    5    8  12369     0    0   54   29146  "
      ]
     },
     "execution_count": 19,
     "metadata": {},
     "output_type": "execute_result"
    }
   ],
   "source": [
    "df[df['srcip']==1838263254]"
   ]
  },
  {
   "cell_type": "code",
   "execution_count": 61,
   "id": "90123942-a7a8-4c46-a1ab-6955982c2dbf",
   "metadata": {
    "tags": []
   },
   "outputs": [],
   "source": [
    "# df_remaining_keys.to_csv('df2.csv', sep=',', index=False, encoding='utf-8')"
   ]
  },
  {
   "cell_type": "code",
   "execution_count": null,
   "id": "76ef1337-0b68-4d4e-bfb1-f10352e3e59b",
   "metadata": {},
   "outputs": [],
   "source": []
  },
  {
   "cell_type": "code",
   "execution_count": 73,
   "id": "067ad6c8-b075-4f35-ad9e-6658a735646a",
   "metadata": {
    "tags": []
   },
   "outputs": [],
   "source": [
    "# start = time.time()\n",
    "\n",
    "# df.to_csv('perf.csv')\n",
    "\n",
    "# end = time.time()\n",
    "# print(end - start)"
   ]
  },
  {
   "cell_type": "markdown",
   "id": "cb6f2c7d-c0cc-4b11-80fc-540b5dcc163d",
   "metadata": {},
   "source": [
    "## Create packet (pcap)"
   ]
  },
  {
   "cell_type": "code",
   "execution_count": 21,
   "id": "f348d6ed-48b4-4d55-8220-95c0005ac5bb",
   "metadata": {},
   "outputs": [],
   "source": [
    "from scapy.all import *"
   ]
  },
  {
   "cell_type": "code",
   "execution_count": 35,
   "id": "671fc072-46f6-42ed-8637-3268de3d2d56",
   "metadata": {
    "tags": []
   },
   "outputs": [],
   "source": [
    "pkts = []\n",
    "# pkt = Ether()/IP(dst='8.8.8.8')/TCP(dport=53,flags='S')\n",
    "# pkts.append(pkt)\n",
    "# pkt = Ether()/IP(src='1.1.1.1', dst='8.8.8.8')/TCP(dport=53,flags='S')\n",
    "# pkts.append(pkt)\n",
    "\n",
    "src_ip = \"192.168.0.1\"\n",
    "dst_ip = \"10.0.0.1\"\n",
    "src_port = 12345\n",
    "dst_port = 80\n",
    "# Define the packet flags\n",
    "syn_flag = 0x02\n",
    "ack_flag = 0x10\n",
    "\n",
    "pkt = Ether(dst='00:11:22:33:44:55')/IP(src=src_ip, dst=dst_ip)/TCP(sport=src_port, dport=dst_port)\n",
    "pkts.append(pkt)\n",
    "\n",
    "pkt = Ether(dst='00:11:22:33:44:55')/IP(src=src_ip, dst=dst_ip)/UDP(sport=src_port, dport=dst_port)\n",
    "pkts.append(pkt)\n",
    "\n",
    "timestamp = 1539868199.123456\n",
    "\n",
    "pkt = Ether(dst='00:11:22:33:44:55')/IP(src=src_ip, dst=dst_ip)/UDP(sport=src_port, dport=dst_port)\n",
    "pkt.time = timestamp\n",
    "pkts.append(pkt)\n",
    "\n",
    "ttl_value = 100\n",
    "packet_length = 200\n",
    "\n",
    "# pkt = Ether(dst='00:11:22:33:44:55')/IP(src=src_ip, dst=dst_ip, ttl=ttl_value)/UDP(sport=src_port, dport=dst_port)/Raw(load=b\"A\" * packet_length)\n",
    "# pkts.append(pkt)\n",
    "\n",
    "wrpcap('foo.pcap', pkts)"
   ]
  },
  {
   "cell_type": "code",
   "execution_count": 36,
   "id": "75a103cc-65b4-4482-93d6-6943ff40e12b",
   "metadata": {
    "tags": []
   },
   "outputs": [
    {
     "name": "stdout",
     "output_type": "stream",
     "text": [
      "Ether / IP / TCP 192.168.0.1:12345 > 10.0.0.1:http S\n",
      "Ether / IP / UDP 192.168.0.1:12345 > 10.0.0.1:80\n",
      "Ether / IP / UDP 192.168.0.1:12345 > 10.0.0.1:80\n"
     ]
    }
   ],
   "source": [
    "pkts = rdpcap(\"foo.pcap\")\n",
    "for p in pkts:\n",
    "    print(p)"
   ]
  },
  {
   "cell_type": "code",
   "execution_count": 79,
   "id": "8916c0b8-b13c-4794-97af-6390360f8960",
   "metadata": {
    "tags": []
   },
   "outputs": [],
   "source": [
    "# pkts = rdpcap(\"equinix-nyc.dirA.20180517-130900.UTC.anon.pcap\")\n",
    "# pcap_name = '20181018-130900_srcip_zipf.csv'\n",
    "pcap_name = '20181220-131100-srcip-zipf.csv'\n",
    "pkt_df = pd.read_csv(pcap_name)"
   ]
  },
  {
   "cell_type": "code",
   "execution_count": 80,
   "id": "70efc886-8fd8-45a2-87d6-d69e905286b9",
   "metadata": {
    "tags": []
   },
   "outputs": [
    {
     "data": {
      "text/html": [
       "<div>\n",
       "<style scoped>\n",
       "    .dataframe tbody tr th:only-of-type {\n",
       "        vertical-align: middle;\n",
       "    }\n",
       "\n",
       "    .dataframe tbody tr th {\n",
       "        vertical-align: top;\n",
       "    }\n",
       "\n",
       "    .dataframe thead th {\n",
       "        text-align: right;\n",
       "    }\n",
       "</style>\n",
       "<table border=\"1\" class=\"dataframe\">\n",
       "  <thead>\n",
       "    <tr style=\"text-align: right;\">\n",
       "      <th></th>\n",
       "      <th>srcip</th>\n",
       "      <th>dstip</th>\n",
       "      <th>srcport</th>\n",
       "      <th>dstport</th>\n",
       "      <th>proto</th>\n",
       "      <th>time</th>\n",
       "      <th>pkt_len</th>\n",
       "      <th>version</th>\n",
       "      <th>ihl</th>\n",
       "      <th>tos</th>\n",
       "      <th>id</th>\n",
       "      <th>flag</th>\n",
       "      <th>off</th>\n",
       "      <th>ttl</th>\n",
       "      <th>chksum</th>\n",
       "    </tr>\n",
       "  </thead>\n",
       "  <tbody>\n",
       "    <tr>\n",
       "      <th>0</th>\n",
       "      <td>3466822664</td>\n",
       "      <td>3257345458</td>\n",
       "      <td>1126</td>\n",
       "      <td>3393</td>\n",
       "      <td>TCP</td>\n",
       "      <td>1545311460000001</td>\n",
       "      <td>40</td>\n",
       "      <td>4</td>\n",
       "      <td>5</td>\n",
       "      <td>0</td>\n",
       "      <td>1</td>\n",
       "      <td>0</td>\n",
       "      <td>0</td>\n",
       "      <td>64</td>\n",
       "      <td>16458</td>\n",
       "    </tr>\n",
       "    <tr>\n",
       "      <th>1</th>\n",
       "      <td>3885270467</td>\n",
       "      <td>3449052658</td>\n",
       "      <td>443</td>\n",
       "      <td>39048</td>\n",
       "      <td>TCP</td>\n",
       "      <td>1545311460000089</td>\n",
       "      <td>40</td>\n",
       "      <td>4</td>\n",
       "      <td>5</td>\n",
       "      <td>0</td>\n",
       "      <td>1</td>\n",
       "      <td>0</td>\n",
       "      <td>0</td>\n",
       "      <td>64</td>\n",
       "      <td>57840</td>\n",
       "    </tr>\n",
       "    <tr>\n",
       "      <th>2</th>\n",
       "      <td>3307969487</td>\n",
       "      <td>3978971499</td>\n",
       "      <td>47646</td>\n",
       "      <td>443</td>\n",
       "      <td>TCP</td>\n",
       "      <td>1545311460000134</td>\n",
       "      <td>40</td>\n",
       "      <td>4</td>\n",
       "      <td>5</td>\n",
       "      <td>0</td>\n",
       "      <td>1</td>\n",
       "      <td>0</td>\n",
       "      <td>0</td>\n",
       "      <td>64</td>\n",
       "      <td>58174</td>\n",
       "    </tr>\n",
       "    <tr>\n",
       "      <th>3</th>\n",
       "      <td>1706519271</td>\n",
       "      <td>2340553942</td>\n",
       "      <td>443</td>\n",
       "      <td>52658</td>\n",
       "      <td>TCP</td>\n",
       "      <td>1545311460000173</td>\n",
       "      <td>40</td>\n",
       "      <td>4</td>\n",
       "      <td>5</td>\n",
       "      <td>0</td>\n",
       "      <td>1</td>\n",
       "      <td>0</td>\n",
       "      <td>0</td>\n",
       "      <td>64</td>\n",
       "      <td>6617</td>\n",
       "    </tr>\n",
       "    <tr>\n",
       "      <th>4</th>\n",
       "      <td>2283260735</td>\n",
       "      <td>3450146404</td>\n",
       "      <td>29273</td>\n",
       "      <td>40689</td>\n",
       "      <td>TCP</td>\n",
       "      <td>1545311460000257</td>\n",
       "      <td>40</td>\n",
       "      <td>4</td>\n",
       "      <td>5</td>\n",
       "      <td>0</td>\n",
       "      <td>1</td>\n",
       "      <td>0</td>\n",
       "      <td>0</td>\n",
       "      <td>64</td>\n",
       "      <td>19311</td>\n",
       "    </tr>\n",
       "    <tr>\n",
       "      <th>...</th>\n",
       "      <td>...</td>\n",
       "      <td>...</td>\n",
       "      <td>...</td>\n",
       "      <td>...</td>\n",
       "      <td>...</td>\n",
       "      <td>...</td>\n",
       "      <td>...</td>\n",
       "      <td>...</td>\n",
       "      <td>...</td>\n",
       "      <td>...</td>\n",
       "      <td>...</td>\n",
       "      <td>...</td>\n",
       "      <td>...</td>\n",
       "      <td>...</td>\n",
       "      <td>...</td>\n",
       "    </tr>\n",
       "    <tr>\n",
       "      <th>1559829</th>\n",
       "      <td>33718550</td>\n",
       "      <td>4225769677</td>\n",
       "      <td>443</td>\n",
       "      <td>52220</td>\n",
       "      <td>TCP</td>\n",
       "      <td>1545311472147219</td>\n",
       "      <td>40</td>\n",
       "      <td>4</td>\n",
       "      <td>5</td>\n",
       "      <td>0</td>\n",
       "      <td>1</td>\n",
       "      <td>0</td>\n",
       "      <td>0</td>\n",
       "      <td>64</td>\n",
       "      <td>56073</td>\n",
       "    </tr>\n",
       "    <tr>\n",
       "      <th>1559830</th>\n",
       "      <td>33718550</td>\n",
       "      <td>4225769677</td>\n",
       "      <td>443</td>\n",
       "      <td>52220</td>\n",
       "      <td>TCP</td>\n",
       "      <td>1545311472147219</td>\n",
       "      <td>40</td>\n",
       "      <td>4</td>\n",
       "      <td>5</td>\n",
       "      <td>0</td>\n",
       "      <td>1</td>\n",
       "      <td>0</td>\n",
       "      <td>0</td>\n",
       "      <td>64</td>\n",
       "      <td>56073</td>\n",
       "    </tr>\n",
       "    <tr>\n",
       "      <th>1559831</th>\n",
       "      <td>33718550</td>\n",
       "      <td>4225769677</td>\n",
       "      <td>443</td>\n",
       "      <td>52220</td>\n",
       "      <td>TCP</td>\n",
       "      <td>1545311472147219</td>\n",
       "      <td>40</td>\n",
       "      <td>4</td>\n",
       "      <td>5</td>\n",
       "      <td>0</td>\n",
       "      <td>1</td>\n",
       "      <td>0</td>\n",
       "      <td>0</td>\n",
       "      <td>64</td>\n",
       "      <td>56073</td>\n",
       "    </tr>\n",
       "    <tr>\n",
       "      <th>1559832</th>\n",
       "      <td>33718550</td>\n",
       "      <td>4225769677</td>\n",
       "      <td>443</td>\n",
       "      <td>52220</td>\n",
       "      <td>TCP</td>\n",
       "      <td>1545311472147219</td>\n",
       "      <td>40</td>\n",
       "      <td>4</td>\n",
       "      <td>5</td>\n",
       "      <td>0</td>\n",
       "      <td>1</td>\n",
       "      <td>0</td>\n",
       "      <td>0</td>\n",
       "      <td>64</td>\n",
       "      <td>56073</td>\n",
       "    </tr>\n",
       "    <tr>\n",
       "      <th>1559833</th>\n",
       "      <td>33718550</td>\n",
       "      <td>4225769677</td>\n",
       "      <td>443</td>\n",
       "      <td>52220</td>\n",
       "      <td>TCP</td>\n",
       "      <td>1545311472147219</td>\n",
       "      <td>40</td>\n",
       "      <td>4</td>\n",
       "      <td>5</td>\n",
       "      <td>0</td>\n",
       "      <td>1</td>\n",
       "      <td>0</td>\n",
       "      <td>0</td>\n",
       "      <td>64</td>\n",
       "      <td>56073</td>\n",
       "    </tr>\n",
       "  </tbody>\n",
       "</table>\n",
       "<p>1559834 rows × 15 columns</p>\n",
       "</div>"
      ],
      "text/plain": [
       "              srcip       dstip  srcport  dstport proto              time  \\\n",
       "0        3466822664  3257345458     1126     3393   TCP  1545311460000001   \n",
       "1        3885270467  3449052658      443    39048   TCP  1545311460000089   \n",
       "2        3307969487  3978971499    47646      443   TCP  1545311460000134   \n",
       "3        1706519271  2340553942      443    52658   TCP  1545311460000173   \n",
       "4        2283260735  3450146404    29273    40689   TCP  1545311460000257   \n",
       "...             ...         ...      ...      ...   ...               ...   \n",
       "1559829    33718550  4225769677      443    52220   TCP  1545311472147219   \n",
       "1559830    33718550  4225769677      443    52220   TCP  1545311472147219   \n",
       "1559831    33718550  4225769677      443    52220   TCP  1545311472147219   \n",
       "1559832    33718550  4225769677      443    52220   TCP  1545311472147219   \n",
       "1559833    33718550  4225769677      443    52220   TCP  1545311472147219   \n",
       "\n",
       "         pkt_len  version  ihl  tos  id  flag  off  ttl  chksum  \n",
       "0             40        4    5    0   1     0    0   64   16458  \n",
       "1             40        4    5    0   1     0    0   64   57840  \n",
       "2             40        4    5    0   1     0    0   64   58174  \n",
       "3             40        4    5    0   1     0    0   64    6617  \n",
       "4             40        4    5    0   1     0    0   64   19311  \n",
       "...          ...      ...  ...  ...  ..   ...  ...  ...     ...  \n",
       "1559829       40        4    5    0   1     0    0   64   56073  \n",
       "1559830       40        4    5    0   1     0    0   64   56073  \n",
       "1559831       40        4    5    0   1     0    0   64   56073  \n",
       "1559832       40        4    5    0   1     0    0   64   56073  \n",
       "1559833       40        4    5    0   1     0    0   64   56073  \n",
       "\n",
       "[1559834 rows x 15 columns]"
      ]
     },
     "execution_count": 80,
     "metadata": {},
     "output_type": "execute_result"
    }
   ],
   "source": [
    "pkt_df"
   ]
  },
  {
   "cell_type": "code",
   "execution_count": 311,
   "id": "d98f345f-5674-4ddb-8c89-69995aea3a1c",
   "metadata": {
    "tags": []
   },
   "outputs": [],
   "source": []
  },
  {
   "cell_type": "code",
   "execution_count": 430,
   "id": "a005271e-18a7-4a89-b292-aa8a7f642565",
   "metadata": {
    "tags": []
   },
   "outputs": [],
   "source": []
  },
  {
   "cell_type": "code",
   "execution_count": null,
   "id": "516f12f3-9b0c-4d13-a9e9-34feca218e65",
   "metadata": {},
   "outputs": [],
   "source": []
  }
 ],
 "metadata": {
  "kernelspec": {
   "display_name": "Python 3 (ipykernel)",
   "language": "python",
   "name": "python3"
  },
  "language_info": {
   "codemirror_mode": {
    "name": "ipython",
    "version": 3
   },
   "file_extension": ".py",
   "mimetype": "text/x-python",
   "name": "python",
   "nbconvert_exporter": "python",
   "pygments_lexer": "ipython3",
   "version": "3.8.0"
  }
 },
 "nbformat": 4,
 "nbformat_minor": 5
}
